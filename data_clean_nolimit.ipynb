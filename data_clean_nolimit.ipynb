{
 "cells": [
  {
   "attachments": {},
   "cell_type": "markdown",
   "metadata": {},
   "source": [
    "# DATA CLEANING FOR RELEVANT MRI SEQUENCE"
   ]
  },
  {
   "cell_type": "code",
   "execution_count": 8,
   "metadata": {},
   "outputs": [],
   "source": [
    "import os\n",
    "import nibabel as nib\n",
    "from nibabel.testing import data_path\n",
    "import numpy as np\n",
    "import cv2 \n",
    "from matplotlib import pyplot as plt \n",
    "import sys\n",
    "import shutil"
   ]
  },
  {
   "attachments": {},
   "cell_type": "markdown",
   "metadata": {},
   "source": [
    "### Load CSV"
   ]
  },
  {
   "cell_type": "code",
   "execution_count": 49,
   "metadata": {},
   "outputs": [],
   "source": [
    "tesla = 3 #1.5 or 3\n",
    "downloadDate = \"12_05_2022\"\n",
    "path = \"./{}T/{}/{}/\".format(tesla, seq, cond)\n",
    "\n",
    "seq = \"T1\"\n",
    "cond= \"AD\" #condition is AD or CN or MCI\n",
    "meta_path_1_ad = \"./Metadata/{}w_{}_ADNI1_{}T_{}.csv\".format(seq, cond, tesla, downloadDate)\n",
    "cond= \"MCI\" #condition is AD or CN or MCI\n",
    "meta_path_1_mci = \"./Metadata/{}w_{}_ADNI1_{}T_{}.csv\".format(seq, cond, tesla, downloadDate)\n",
    "cond= \"CN\" #condition is AD or CN or MCI\n",
    "meta_path_1_cn = \"./Metadata/{}w_{}_ADNI1_{}T_{}.csv\".format(seq, cond, tesla, downloadDate)\n",
    "seq = \"T2\"\n",
    "cond= \"AD\" #condition is AD or CN or MCI\n",
    "meta_path_2_ad = \"./Metadata/{}w_{}_ADNI1_{}T_{}.csv\".format(seq, cond, tesla, downloadDate)\n",
    "cond= \"MCI\" #condition is AD or CN or MCI\n",
    "meta_path_2_mci = \"./Metadata/{}w_{}_ADNI1_{}T_{}.csv\".format(seq, cond, tesla, downloadDate)\n",
    "cond= \"CN\" #condition is AD or CN or MCI\n",
    "meta_path_2_cn = \"./Metadata/{}w_{}_ADNI1_{}T_{}.csv\".format(seq, cond, tesla, downloadDate)\n",
    "# path = \"./data/{}/{}/\".format(seq, cond)"
   ]
  },
  {
   "cell_type": "code",
   "execution_count": 52,
   "metadata": {},
   "outputs": [
    {
     "name": "stdout",
     "output_type": "stream",
     "text": [
      "20230204-154554\n"
     ]
    }
   ],
   "source": [
    "import pandas as pd\n",
    "import matplotlib.pyplot as plt\n",
    "from datetime import datetime\n",
    "print(datetime.now().strftime('%Y%m%d-%H%M%S'))\n",
    "# meta_path = \"./Metadata/metadata_final.csv\"\n",
    "meta_df_1_ad = pd.read_csv(meta_path_1_ad, delimiter=',')\n",
    "meta_df_1_mci = pd.read_csv(meta_path_1_mci, delimiter=',')\n",
    "meta_df_1_cn = pd.read_csv(meta_path_1_cn, delimiter=',')\n",
    "meta_df_2_ad = pd.read_csv(meta_path_2_ad, delimiter=',')\n",
    "meta_df_2_mci = pd.read_csv(meta_path_2_mci, delimiter=',')\n",
    "meta_df_2_cn = pd.read_csv(meta_path_2_cn, delimiter=',')"
   ]
  },
  {
   "attachments": {},
   "cell_type": "markdown",
   "metadata": {},
   "source": [
    "### Creating List of Relevant Weighted Data\n",
    "----\n",
    "The first data cleaning is to generate metadata of relevant MRI sequences from the original metadata.\n",
    "\n",
    "Relevant T1w MRI dataframe is obtained by including only `MPRAGE` from the `Description` column, and only `TSE/FSE` for T2w MRI. There is no use for filterring out certain visit times on `visit` column (in which such filter was used the first time to easily balance the data size for each group. See the first but unused source code: `data_clean.ipynb`). \n",
    "\n",
    "Generated output from this process is saved inside the folder `/TempMeta/` with the file name `Cleaned_Ori_Nolimit_{seq}w_{group}_ADNI1_{tesla}T.csv.csv`\n"
   ]
  },
  {
   "cell_type": "code",
   "execution_count": 73,
   "metadata": {},
   "outputs": [],
   "source": [
    "from pathlib import Path\n",
    "import pandas as pd\n",
    "\n",
    "def createMetaCombinedString(meta_df):\n",
    "    meta_image = meta_df.loc[:,\"Image Data ID\"]\n",
    "    meta_subject = meta_df.loc[:,\"Subject\"]\n",
    "    meta_visit = meta_df.loc[:,\"Visit\"]\n",
    "\n",
    "    meta_combined= []\n",
    "    i=0\n",
    "    for i in range(len(meta_image)):\n",
    "        # combined = str(meta_subject[i])+\"-\"+str(meta_series[i])+\"-\"+str(meta_image[i])\n",
    "        combined = str(meta_subject[i])+\"-\"+str(meta_image[i]) #to check data availability based on subject and image id\n",
    "        meta_combined.append(combined)\n",
    "        i+=1\n",
    "\n",
    "    return meta_combined\n",
    "\n",
    "def cleanMetadata(meta_df, seq, cond, tesla=3):\n",
    "    nii_path = \"./{}T/{}/{}/\".format(tesla, seq, cond)\n",
    "\n",
    "    target_meta = \"./TempMeta/\"\n",
    "    target_path = \"./TempData/\"\n",
    "    meta_dict = {\"Image Data ID\" : [], \"Subject\":[], \"Group\":[],\"Sex\":[],\"Age\":[],\"Visit\":[],\"Modality\":[],\"Description\":[],\"Type\":[],\"Acq Date\":[],\"Format\":[]}\n",
    "    result = list(Path(nii_path).glob('**/*.nii'))\n",
    "    unique = set(result)\n",
    "    print(\"---------\\n{}w-{}\\nOriginal number: {}\\nUnique result:{}\".format(seq, cond, len(result), len(unique)))\n",
    "\n",
    "    sim = 0\n",
    "    ctr = 0\n",
    "\n",
    "    if seq in \"T1\":\n",
    "        desc1 = \"RAGE\"\n",
    "        desc2 = \"rage\"\n",
    "    elif seq in \"T2\":\n",
    "        desc1 = \"FSE\"\n",
    "        desc2 = \"TSE\"\n",
    "\n",
    "    meta_combined = createMetaCombinedString(meta_df)\n",
    "\n",
    "    for f in result[:]:\n",
    "        pathToFile = str(f)\n",
    "        fileName = pathToFile.split(\"/\")[7] #use \"\\\\\" if \"/\" does not work 7 if from folder 3T/seq/group\n",
    "        fileNameNoExt = fileName.split(\".nii\")[0]\n",
    "        # print(fileName)\n",
    "        \n",
    "        part = fileNameNoExt.split('_MR')\n",
    "        id_subject = part[0].split(\"ADNI_\")[1]\n",
    "        part = part[1].split(\"raw_\")[1]\n",
    "        id_series = part.split(\"_S\")[1]\n",
    "        id_series = id_series.split(\"_I\")[0]\n",
    "        id_image = fileNameNoExt.split(\"_I\")[1]\n",
    "    \n",
    "        combinedIDs = id_subject+\"-I\"+id_image\n",
    "        subdirName = id_subject+\"-\"+id_series+\"-\"+id_image\n",
    "        \n",
    "        if desc1 in fileName or desc2 in fileName: #FILTER BASED ON DESCRIPTION COLUMN FOR RELEVANT SEQUENCE\n",
    "            target_dir =os.path.join(target_path, seq)\n",
    "            target_dir =os.path.join(target_dir, cond)\n",
    "            target_dir = os.path.join(target_dir, subdirName)\n",
    "            isExist = os.path.exists(target_dir)    \n",
    "\n",
    "            j = 0\n",
    "            for j in range(len(meta_combined)):\n",
    "                if meta_combined[j] in combinedIDs:\n",
    "                    meta_dict[\"Image Data ID\"].append(meta_df.loc[j,\"Image Data ID\"])\n",
    "                    meta_dict[\"Subject\"].append(meta_df.loc[j,\"Subject\"])\n",
    "                    meta_dict[\"Group\"].append(meta_df.loc[j,\"Group\"])\n",
    "                    meta_dict[\"Sex\"].append(meta_df.loc[j,\"Sex\"])\n",
    "                    meta_dict[\"Age\"].append(meta_df.loc[j,\"Age\"])\n",
    "                    meta_dict[\"Visit\"].append(meta_df.loc[j,\"Visit\"])\n",
    "                    meta_dict[\"Modality\"].append(meta_df.loc[j,\"Modality\"])\n",
    "                    meta_dict[\"Description\"].append(meta_df.loc[j,\"Description\"])\n",
    "                    meta_dict[\"Type\"].append(meta_df.loc[j,\"Type\"])\n",
    "                    meta_dict[\"Acq Date\"].append(meta_df.loc[j,\"Acq Date\"])\n",
    "                    meta_dict[\"Format\"].append( meta_df.loc[j,\"Format\"])\n",
    "\n",
    "                    # if isExist == False:\n",
    "                    #     os.mkdir(target_dir)\n",
    "                    # print(target_dir)\n",
    "                    # print(\"File {} copied to target folder\".format(fileName))\n",
    "                    # shutil.copy(f,target_dir+\"/\"+fileName)\n",
    "\n",
    "                    sim+=1\n",
    "                j+=1\n",
    "        ctr+=1    \n",
    "        # print(\"File {}\".format(ctr))\n",
    "    print(\"Total {}w - {} data is {}\".format(seq, cond, sim))\n",
    "\n",
    "    \n",
    "    return meta_dict\n",
    "\n",
    "\n",
    "def exportCSV(meta_dict, seq, cond, tesla=3):\n",
    "# convert the history.history dict to a pandas DataFrame:     \n",
    "    temp_meta_df = pd.DataFrame(meta_dict) \n",
    "\n",
    "    meta_csv_file = \"./TempMeta/Cleaned_Ori_Nolimit_{}w_{}_ADNI1_{}T.csv\".format(seq, cond, tesla)\n",
    "\n",
    "    with open(meta_csv_file, mode='w') as f:\n",
    "        temp_meta_df.to_csv(f)\n"
   ]
  },
  {
   "cell_type": "code",
   "execution_count": 74,
   "metadata": {},
   "outputs": [
    {
     "name": "stdout",
     "output_type": "stream",
     "text": [
      "---------\n",
      "T1w-AD\n",
      "Original number: 320\n",
      "Unique result:320\n",
      "Total T1w - AD data is 139\n",
      "---------\n",
      "T1w-MCI\n",
      "Original number: 3479\n",
      "Unique result:3479\n",
      "Total T1w - MCI data is 993\n",
      "---------\n",
      "T1w-CN\n",
      "Original number: 3382\n",
      "Unique result:3382\n",
      "Total T1w - CN data is 887\n",
      "---------\n",
      "T2w-AD\n",
      "Original number: 455\n",
      "Unique result:455\n",
      "Total T2w - AD data is 73\n",
      "---------\n",
      "T2w-MCI\n",
      "Original number: 1567\n",
      "Unique result:1567\n",
      "Total T2w - MCI data is 220\n",
      "---------\n",
      "T2w-CN\n",
      "Original number: 2082\n",
      "Unique result:2082\n",
      "Total T2w - CN data is 153\n"
     ]
    }
   ],
   "source": [
    "dict_1_ad = cleanMetadata(meta_df_1_ad, \"T1\", \"AD\")\n",
    "dict_1_mci = cleanMetadata(meta_df_1_mci, \"T1\", \"MCI\")\n",
    "dict_1_cn = cleanMetadata(meta_df_1_cn, \"T1\", \"CN\")\n",
    "dict_2_ad = cleanMetadata(meta_df_2_ad, \"T2\", \"AD\")\n",
    "dict_2_mci = cleanMetadata(meta_df_2_mci, \"T2\", \"MCI\")\n",
    "dict_2_cn = cleanMetadata(meta_df_2_cn, \"T2\", \"CN\")"
   ]
  },
  {
   "cell_type": "code",
   "execution_count": 75,
   "metadata": {},
   "outputs": [],
   "source": [
    "exportCSV(dict_1_ad, \"T1\", \"AD\")\n",
    "exportCSV(dict_1_mci, \"T1\", \"MCI\")\n",
    "exportCSV(dict_1_cn, \"T1\", \"CN\")\n",
    "exportCSV(dict_2_ad, \"T2\", \"AD\")\n",
    "exportCSV(dict_2_mci, \"T2\", \"MCI\")\n",
    "exportCSV(dict_2_cn, \"T2\", \"CN\")\n"
   ]
  }
 ],
 "metadata": {
  "file_extension": ".py",
  "kernelspec": {
   "display_name": "Python 3.6.9 ('env': venv)",
   "language": "python",
   "name": "python3"
  },
  "language_info": {
   "codemirror_mode": {
    "name": "ipython",
    "version": 3
   },
   "file_extension": ".py",
   "mimetype": "text/x-python",
   "name": "python",
   "nbconvert_exporter": "python",
   "pygments_lexer": "ipython3",
   "version": "3.6.9"
  },
  "mimetype": "text/x-python",
  "name": "python",
  "npconvert_exporter": "python",
  "orig_nbformat": 2,
  "pygments_lexer": "ipython3",
  "version": 3,
  "vscode": {
   "interpreter": {
    "hash": "91d5ea55f6078fcf033fd299d4119a7c922feb33f9a1efc7462ec6830a794563"
   }
  }
 },
 "nbformat": 4,
 "nbformat_minor": 2
}
